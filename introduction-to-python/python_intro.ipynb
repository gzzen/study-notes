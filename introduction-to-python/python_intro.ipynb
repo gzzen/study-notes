{
 "cells": [
  {
   "cell_type": "markdown",
   "metadata": {},
   "source": [
    "# Basic python language syntax"
   ]
  },
  {
   "cell_type": "markdown",
   "metadata": {},
   "source": [
    "- Comments are marked by ( # )\n",
    "- End-of-line terminates a statement\n",
    "- ( ; ) can terminates a statement within line"
   ]
  },
  {
   "cell_type": "code",
   "execution_count": 1,
   "metadata": {},
   "outputs": [],
   "source": [
    "# This is the format of comments\n",
    "\n",
    "midpoint = (1 + 1 + 1\n",
    "            + 1 + 1)  # (...) for expression continued in the next line\n",
    "\n",
    "lower = []; upper = [] # multiple statements on a single line separated by (;)"
   ]
  },
  {
   "cell_type": "markdown",
   "metadata": {},
   "source": [
    "- Indentation before a statement denotes blockings\n",
    "- Indented code blocks are preceded by ( : ) \n",
    "- White space within statement does not matter"
   ]
  },
  {
   "cell_type": "code",
   "execution_count": 2,
   "metadata": {},
   "outputs": [],
   "source": [
    "# code blocks are indicated by indentation preceded by (:)\n",
    "# so white space is important\n",
    "for i in range(10):\n",
    "    if (i < midpoint):\n",
    "        lower.append(1*i)\n",
    "    else:\n",
    "        upper.append(    1    *   i        ) # white space within statement does not matter"
   ]
  },
  {
   "cell_type": "markdown",
   "metadata": {},
   "source": [
    "# Variables and objects"
   ]
  },
  {
   "cell_type": "markdown",
   "metadata": {},
   "source": [
    "- Variables are pointers assigned by ( = )\n",
    "- Variables in python is **not** a container of data, but a reference to values\n",
    "- Variables are *dynamically typed* (variables can point to objects of any type)"
   ]
  },
  {
   "cell_type": "code",
   "execution_count": 3,
   "metadata": {},
   "outputs": [],
   "source": [
    "# assign integer 4 to x\n",
    "x = 4\n",
    "\n",
    "x = 'hello' # x becomes a string\n",
    "x = [1, 2, 3] # x becomes a list"
   ]
  },
  {
   "cell_type": "markdown",
   "metadata": {},
   "source": [
    "- Changing a mutable object changes all its references\n",
    "- Assigning another value to a variable simply changes its pointing object"
   ]
  },
  {
   "cell_type": "code",
   "execution_count": 4,
   "metadata": {},
   "outputs": [
    {
     "name": "stdout",
     "output_type": "stream",
     "text": [
      "x: [1, 2, 3] \n",
      "y: [1, 2, 3]\n",
      "x: [1, 2, 3, 4] \n",
      "y: [1, 2, 3, 4]\n",
      "x: hello there \n",
      "y: [1, 2, 3, 4]\n"
     ]
    }
   ],
   "source": [
    "# y points to x\n",
    "y = x \n",
    "print('x:', x, '\\ny:', y)\n",
    "\n",
    "# changing the list pointed by x and y\n",
    "x.append(4)\n",
    "print('x:', x, '\\ny:', y)\n",
    "\n",
    "# changing the pointed object of x does not change y\n",
    "x = 'hello there'\n",
    "print('x:', x, '\\ny:', y)\n",
    "\n"
   ]
  },
  {
   "cell_type": "markdown",
   "metadata": {},
   "source": [
    "- Python is an object-oriented programming language\n",
    "- Types in python are linked to the objects themselves"
   ]
  },
  {
   "cell_type": "code",
   "execution_count": 5,
   "metadata": {},
   "outputs": [
    {
     "data": {
      "text/plain": [
       "int"
      ]
     },
     "execution_count": 5,
     "metadata": {},
     "output_type": "execute_result"
    }
   ],
   "source": [
    "x = 4\n",
    "type(x)"
   ]
  },
  {
   "cell_type": "code",
   "execution_count": 6,
   "metadata": {
    "scrolled": true
   },
   "outputs": [
    {
     "data": {
      "text/plain": [
       "str"
      ]
     },
     "execution_count": 6,
     "metadata": {},
     "output_type": "execute_result"
    }
   ],
   "source": [
    "y = 'hello there'\n",
    "type(y)\n"
   ]
  },
  {
   "cell_type": "code",
   "execution_count": 7,
   "metadata": {},
   "outputs": [
    {
     "data": {
      "text/plain": [
       "float"
      ]
     },
     "execution_count": 7,
     "metadata": {},
     "output_type": "execute_result"
    }
   ],
   "source": [
    "z = 3.14159\n",
    "type(z)"
   ]
  },
  {
   "cell_type": "markdown",
   "metadata": {},
   "source": [
    "- Every entity has **metadata** (attributes) and **functionality** (methods)\n",
    "- Attributes and methods are accessed by dot syntax (.)"
   ]
  },
  {
   "cell_type": "code",
   "execution_count": 8,
   "metadata": {},
   "outputs": [
    {
     "name": "stdout",
     "output_type": "stream",
     "text": [
      "[1, 2, 3, 100]\n"
     ]
    }
   ],
   "source": [
    "# methods of a list object\n",
    "L = [1, 2, 3]\n",
    "L.append(100)\n",
    "print(L)"
   ]
  },
  {
   "cell_type": "code",
   "execution_count": 9,
   "metadata": {},
   "outputs": [
    {
     "name": "stdout",
     "output_type": "stream",
     "text": [
      "4.5 + 0.0 i\n",
      "False\n",
      "True\n"
     ]
    }
   ],
   "source": [
    "# attributes of a numerical type\n",
    "x = 4.5\n",
    "print(x.real, \"+\", x.imag, 'i')\n",
    "\n",
    "# methods of a numerical type\n",
    "y = 4.0\n",
    "\n",
    "print(x.is_integer())\n",
    "print(y.is_integer())"
   ]
  },
  {
   "cell_type": "markdown",
   "metadata": {},
   "source": [
    "# Operators"
   ]
  },
  {
   "cell_type": "markdown",
   "metadata": {},
   "source": [
    "## Arithmetic operations"
   ]
  },
  {
   "cell_type": "code",
   "execution_count": 10,
   "metadata": {},
   "outputs": [
    {
     "name": "stdout",
     "output_type": "stream",
     "text": [
      "5.5\n",
      "5\n",
      "1\n",
      "121\n"
     ]
    }
   ],
   "source": [
    "# true division\n",
    "print(11 / 2)\n",
    "\n",
    "# floor division\n",
    "print(11 // 2)\n",
    "\n",
    "# modulus\n",
    "print(11 % 2)\n",
    "\n",
    "# exponentiation\n",
    "print(11 ** 2)"
   ]
  },
  {
   "cell_type": "markdown",
   "metadata": {},
   "source": [
    "## Self-update operations"
   ]
  },
  {
   "cell_type": "code",
   "execution_count": 11,
   "metadata": {},
   "outputs": [
    {
     "name": "stdout",
     "output_type": "stream",
     "text": [
      "13\n",
      "11\n",
      "5.5\n"
     ]
    }
   ],
   "source": [
    "a = 11; b = 2\n",
    "\n",
    "# a = a + b = 11 + 2 = 13\n",
    "a += b\n",
    "print(a)\n",
    "\n",
    "# a = a - b = 13 - 2 = 11\n",
    "a -= b\n",
    "print(a)\n",
    "\n",
    "# a = a / b = 11 / 2 = 5.5\n",
    "a /= b\n",
    "print(a)"
   ]
  },
  {
   "cell_type": "markdown",
   "metadata": {},
   "source": [
    "## Comparison and boolean operations"
   ]
  },
  {
   "cell_type": "code",
   "execution_count": 12,
   "metadata": {},
   "outputs": [
    {
     "name": "stdout",
     "output_type": "stream",
     "text": [
      "True\n",
      "False\n",
      "False\n",
      "True\n"
     ]
    }
   ],
   "source": [
    "# check equivalent\n",
    "print(25 % 2 == 1)\n",
    "print(11 / 2 == 3)\n",
    "\n",
    "# check non-equivalent\n",
    "print(1 + 1 != 2)\n",
    "\n",
    "# check range\n",
    "print(15 < 25 < 30)"
   ]
  },
  {
   "cell_type": "code",
   "execution_count": 13,
   "metadata": {},
   "outputs": [
    {
     "name": "stdout",
     "output_type": "stream",
     "text": [
      "True\n",
      "True\n"
     ]
    }
   ],
   "source": [
    "# combined with boolean operations\n",
    "x = 4\n",
    "print((x <= 6) and not (x > 10))\n",
    "print((x == 3) or (x % 2 != 3))"
   ]
  },
  {
   "cell_type": "markdown",
   "metadata": {},
   "source": [
    "## Identity and membership"
   ]
  },
  {
   "cell_type": "code",
   "execution_count": 14,
   "metadata": {},
   "outputs": [
    {
     "name": "stdout",
     "output_type": "stream",
     "text": [
      "a == b? True\n",
      "a is b? False\n",
      "a is not b? True\n",
      "a is c? True\n"
     ]
    }
   ],
   "source": [
    "# identity (is), (is not) operator\n",
    "a = [1, 2, 3]\n",
    "b = [1, 2, 3]\n",
    "c = a\n",
    "\n",
    "print('a == b?', a == b)\n",
    "print('a is b?', a is b)\n",
    "print('a is not b?', a is not b)\n",
    "print('a is c?', a is c)"
   ]
  },
  {
   "cell_type": "code",
   "execution_count": 15,
   "metadata": {},
   "outputs": [
    {
     "name": "stdout",
     "output_type": "stream",
     "text": [
      "1 in [1, 2, 3]? True\n",
      "4 in [1, 2, 3]? False\n",
      "4 not in [1, 2, 3]? True\n"
     ]
    }
   ],
   "source": [
    "# membership (in), (not in) operator\n",
    "print('1 in [1, 2, 3]?', 1 in [1, 2, 3])\n",
    "print('4 in [1, 2, 3]?', 4 in [1, 2, 3])\n",
    "print('4 not in [1, 2, 3]?', 4 not in [1, 2, 3])"
   ]
  },
  {
   "cell_type": "markdown",
   "metadata": {},
   "source": [
    "# Simple values"
   ]
  },
  {
   "cell_type": "markdown",
   "metadata": {},
   "source": [
    "## Integers"
   ]
  },
  {
   "cell_type": "markdown",
   "metadata": {},
   "source": [
    "- Integers in python are **variable-percision** so overflow would not happen\n",
    "- Division of two integers returns a **float** if there is decimals in the result"
   ]
  },
  {
   "cell_type": "code",
   "execution_count": 16,
   "metadata": {},
   "outputs": [
    {
     "name": "stdout",
     "output_type": "stream",
     "text": [
      "2.5\n",
      "2\n"
     ]
    }
   ],
   "source": [
    "# division of two integers\n",
    "print(5 / 2)\n",
    "\n",
    "# division of two integers that returns another integer (floor division)\n",
    "print(5 // 2)"
   ]
  },
  {
   "cell_type": "markdown",
   "metadata": {},
   "source": [
    "## Floating-point numbers"
   ]
  },
  {
   "cell_type": "markdown",
   "metadata": {},
   "source": [
    "- Can be defined either in standard decimal notation, or in exponential notation\n",
    "- Floating-point arthimetic is approximate, and exact equility test is **not reliable**"
   ]
  },
  {
   "cell_type": "code",
   "execution_count": 17,
   "metadata": {},
   "outputs": [
    {
     "name": "stdout",
     "output_type": "stream",
     "text": [
      "True\n"
     ]
    }
   ],
   "source": [
    "x = 14000.00 # decimal notation\n",
    "y = 1.4e4 # exponential notation\n",
    "print(x == y)"
   ]
  },
  {
   "cell_type": "code",
   "execution_count": 18,
   "metadata": {},
   "outputs": [
    {
     "name": "stdout",
     "output_type": "stream",
     "text": [
      "False\n"
     ]
    }
   ],
   "source": [
    "# equility test failed on floating-point arthimetic\n",
    "print(0.1 + 0.2 == 0.3)"
   ]
  },
  {
   "cell_type": "markdown",
   "metadata": {},
   "source": [
    "## Complex numbers\n",
    "- Use the j-suffix to indicate the imaginary part"
   ]
  },
  {
   "cell_type": "code",
   "execution_count": 19,
   "metadata": {},
   "outputs": [
    {
     "name": "stdout",
     "output_type": "stream",
     "text": [
      "real: 3.0\n",
      "imaginary: 4.0\n",
      "conjugate: (3-4j)\n",
      "magnitude: 5.0\n"
     ]
    }
   ],
   "source": [
    "c = 3 + 4j\n",
    "print('real:', c.real)\n",
    "print('imaginary:', c.imag)\n",
    "print('conjugate:', c.conjugate())\n",
    "print('magnitude:', abs(c))"
   ]
  },
  {
   "cell_type": "markdown",
   "metadata": {},
   "source": [
    "## String\n",
    "- Can be expressed by ('...') or (\"...\")\n",
    "- Many useful string-operation methods"
   ]
  },
  {
   "cell_type": "code",
   "execution_count": 20,
   "metadata": {},
   "outputs": [
    {
     "name": "stdout",
     "output_type": "stream",
     "text": [
      "length: 11\n",
      "make uppercase: HI\n",
      "capitalize: Hello there\n",
      "combine: hello there hi\n",
      "5x multiplication: hihihihihi\n",
      "4th letter: o\n"
     ]
    }
   ],
   "source": [
    "a = \"hello there\"\n",
    "b = \"hi\"\n",
    "\n",
    "# length of the string\n",
    "print('length:', len(a))\n",
    "\n",
    "# make uppercase\n",
    "print('make uppercase:', b.upper())\n",
    "\n",
    "# capitalize\n",
    "print('capitalize:', a.capitalize())\n",
    "\n",
    "# combine\n",
    "print('combine:', a + \" \" + b)\n",
    "\n",
    "# multiplication\n",
    "print('5x multiplication:', 5 * b)\n",
    "\n",
    "# accessing individual character\n",
    "print('4th letter:', a[4])"
   ]
  },
  {
   "cell_type": "markdown",
   "metadata": {},
   "source": [
    "## None type\n",
    "- Any function with no return value is returning (None)"
   ]
  },
  {
   "cell_type": "code",
   "execution_count": 21,
   "metadata": {},
   "outputs": [
    {
     "name": "stdout",
     "output_type": "stream",
     "text": [
      "hello there\n",
      "None\n"
     ]
    }
   ],
   "source": [
    "# there is no return value for print()\n",
    "return_value = print('hello there')\n",
    "print(return_value)"
   ]
  },
  {
   "cell_type": "markdown",
   "metadata": {},
   "source": [
    "## Boolean type\n",
    "- With two possible values, (True) and (False) (must be capitalized)\n",
    "- Can be constructed by bool()"
   ]
  },
  {
   "cell_type": "code",
   "execution_count": 22,
   "metadata": {},
   "outputs": [
    {
     "name": "stdout",
     "output_type": "stream",
     "text": [
      "1111: True\n",
      "0: False\n",
      "empty string: False\n",
      "a: True\n",
      "[]: False\n",
      "[1, 2, 3]: True\n"
     ]
    }
   ],
   "source": [
    "# any numeric type is False if equal to 0, otherwise True\n",
    "print('1111:', bool(1111))\n",
    "print('0:', bool(0))\n",
    "\n",
    "# bool is False if the string is empty and True otherwise\n",
    "print('empty string:', bool(''))\n",
    "print('a:', bool('a'))\n",
    "\n",
    "# bool is False for empty sequences and True for non-empty ones\n",
    "print('[]:', bool([]))\n",
    "print('[1, 2, 3]:', bool([1, 2, 3]))"
   ]
  },
  {
   "cell_type": "markdown",
   "metadata": {},
   "source": [
    "# Built-in data structures"
   ]
  },
  {
   "cell_type": "markdown",
   "metadata": {},
   "source": [
    "## Lists\n",
    "- *Ordered* and *mutable* collection\n",
    "- Can contain objects of any types in a list"
   ]
  },
  {
   "cell_type": "code",
   "execution_count": 23,
   "metadata": {},
   "outputs": [
    {
     "name": "stdout",
     "output_type": "stream",
     "text": [
      "length: 4\n",
      "append 11: [2, 5, 7, 3, 11]\n",
      "combine with [3, 5]: [2, 5, 7, 3, 11, 3, 5]\n",
      "sorted: [2, 3, 5, 7, 11]\n"
     ]
    }
   ],
   "source": [
    "L = [2, 5, 7, 3]\n",
    "\n",
    "# length of a list\n",
    "print('length:', len(L))\n",
    "\n",
    "# append a value to the end\n",
    "L.append(11)\n",
    "print('append 11:', L)\n",
    "\n",
    "# combine lists\n",
    "print('combine with [3, 5]:', L + [3, 5])\n",
    "\n",
    "# sort with numerical order\n",
    "L.sort()\n",
    "print('sorted:', L)"
   ]
  },
  {
   "cell_type": "code",
   "execution_count": 24,
   "metadata": {},
   "outputs": [
    {
     "name": "stdout",
     "output_type": "stream",
     "text": [
      "append with string: [2, 3, 5, 7, 11, 'hello there']\n"
     ]
    }
   ],
   "source": [
    "# append a string to the end\n",
    "L.append('hello there')\n",
    "print('append with string:', L)"
   ]
  },
  {
   "cell_type": "markdown",
   "metadata": {},
   "source": [
    "### List indexing\n",
    "- The 1st element from the beginning has index 0, and the one from the end has index -1"
   ]
  },
  {
   "cell_type": "code",
   "execution_count": 25,
   "metadata": {},
   "outputs": [
    {
     "name": "stdout",
     "output_type": "stream",
     "text": [
      "1st element: 2\n",
      "3rd element: 7\n",
      "2nd last element: 11\n"
     ]
    }
   ],
   "source": [
    "# access the 1st and 3rd element from the beginning in L\n",
    "print('1st element:', L[0])\n",
    "print('3rd element:', L[3])\n",
    "\n",
    "# access the 2nd element from the end\n",
    "print('2nd last element:', L[-2])"
   ]
  },
  {
   "cell_type": "markdown",
   "metadata": {},
   "source": [
    "### List slicing"
   ]
  },
  {
   "cell_type": "code",
   "execution_count": 26,
   "metadata": {},
   "outputs": [
    {
     "name": "stdout",
     "output_type": "stream",
     "text": [
      "to 3rd element: [2, 3, 5]\n",
      "neglecting 0 alternative: [2, 3, 5]\n",
      "slice inversely to the last 3rd element: [7, 11, 'hello there']\n",
      "skip 1: [2, 5, 11]\n",
      "all in reverse: ['hello there', 11, 7, 5, 3, 2]\n"
     ]
    }
   ],
   "source": [
    "# slice from the start to a certain index\n",
    "print('to 3rd element:', L[0:3])\n",
    "print('neglecting 0 alternative:', L[:3])\n",
    "\n",
    "# slice from the end\n",
    "print('slice inversely to the last 3rd element:', L[-3:])\n",
    "\n",
    "# select every 2nd element (skip 1)\n",
    "print('skip 1:', L[::2])\n",
    "\n",
    "# or every element in reverse\n",
    "print('all in reverse:', L[::-1])"
   ]
  },
  {
   "cell_type": "markdown",
   "metadata": {},
   "source": [
    "### Replace element"
   ]
  },
  {
   "cell_type": "code",
   "execution_count": 27,
   "metadata": {},
   "outputs": [
    {
     "name": "stdout",
     "output_type": "stream",
     "text": [
      "1st element replaced: [300, 3, 5, 7, 11, 'hello there']\n",
      "1:3 replaced by [8, 2]: [300, 8, 2, 7, 11, 'hello there']\n"
     ]
    }
   ],
   "source": [
    "# replace one element at a certain index\n",
    "L[0] = 300\n",
    "print('1st element replaced:', L)\n",
    "\n",
    "# replace a slice of element\n",
    "L[1:3] = [8, 2]\n",
    "print('1:3 replaced by [8, 2]:', L)"
   ]
  },
  {
   "cell_type": "markdown",
   "metadata": {},
   "source": [
    "## Tuples\n",
    "- Similar to lists but *immutable*\n",
    "- Can be accessed by indexing and slicng\n",
    "- Often used for functions with **multiple return values**"
   ]
  },
  {
   "cell_type": "code",
   "execution_count": 28,
   "metadata": {},
   "outputs": [
    {
     "name": "stdout",
     "output_type": "stream",
     "text": [
      "a == b? True\n"
     ]
    }
   ],
   "source": [
    "# can be defined with or without ()\n",
    "a = (1, 2, 3)\n",
    "b = 1, 2, 3\n",
    "print('a == b?', a == b)"
   ]
  },
  {
   "cell_type": "code",
   "execution_count": 29,
   "metadata": {},
   "outputs": [
    {
     "name": "stdout",
     "output_type": "stream",
     "text": [
      "(1, 8)\n",
      "numerator: 1 \n",
      "denominator: 8\n"
     ]
    }
   ],
   "source": [
    "# function with multiple return values\n",
    "x = 0.125\n",
    "print(x.as_integer_ratio())\n",
    "\n",
    "# define each return value individually\n",
    "numerator, denominator = x.as_integer_ratio()\n",
    "print('numerator:', numerator, '\\ndenominator:', denominator)"
   ]
  },
  {
   "cell_type": "markdown",
   "metadata": {},
   "source": [
    "## Dictionaries\n",
    "- Flexible mapping of keys and values\n",
    "- Created by constructing a list of `key:value` pairs\n",
    "- Access a value by a key"
   ]
  },
  {
   "cell_type": "code",
   "execution_count": 30,
   "metadata": {},
   "outputs": [
    {
     "name": "stdout",
     "output_type": "stream",
     "text": [
      "{'one': 1, 'two': 2, 'three': 3}\n",
      "2\n",
      "{'one': 1, 'two': 2, 'three': 3, 'ninety': 90}\n"
     ]
    }
   ],
   "source": [
    "numbers = {'one':1, 'two':2, 'three':3}\n",
    "print(numbers)\n",
    "\n",
    "# access the value under the key 'two'\n",
    "print(numbers['two'])\n",
    "\n",
    "# add a new value:key pair\n",
    "numbers['ninety'] = 90\n",
    "print(numbers)"
   ]
  },
  {
   "cell_type": "markdown",
   "metadata": {},
   "source": [
    "## Sets\n",
    "- *Unordered* collection of *unique* items\n",
    "- Can be applied to mathematic operations"
   ]
  },
  {
   "cell_type": "code",
   "execution_count": 31,
   "metadata": {},
   "outputs": [
    {
     "name": "stdout",
     "output_type": "stream",
     "text": [
      "{1, 2, 3, 5, 7, 9}\n",
      "{1, 2, 3, 5, 7, 9}\n",
      "{3, 5, 7}\n",
      "{3, 5, 7}\n",
      "{2}\n",
      "{2}\n",
      "{1, 2, 9}\n",
      "{1, 2, 9}\n"
     ]
    }
   ],
   "source": [
    "primes = {2, 3, 5, 7}\n",
    "odds = {1, 3, 5, 7, 9}\n",
    "\n",
    "# union of two sets\n",
    "print(primes.union(odds))\n",
    "# or\n",
    "print(primes | odds)\n",
    "\n",
    "# intersection of two sets\n",
    "print(primes.intersection(odds))\n",
    "# or \n",
    "print(primes & odds)\n",
    "\n",
    "# difference\n",
    "print(primes.difference(odds))\n",
    "print(primes - odds)\n",
    "\n",
    "# symmetric difference (items appearing in only 1 set)\n",
    "print(primes.symmetric_difference(odds))\n",
    "print(primes ^ odds)"
   ]
  },
  {
   "cell_type": "markdown",
   "metadata": {},
   "source": [
    "# Control flow"
   ]
  },
  {
   "cell_type": "markdown",
   "metadata": {},
   "source": [
    "## Conditional statement"
   ]
  },
  {
   "cell_type": "code",
   "execution_count": 32,
   "metadata": {},
   "outputs": [
    {
     "name": "stdout",
     "output_type": "stream",
     "text": [
      "-5 < 0\n"
     ]
    }
   ],
   "source": [
    "x = -5\n",
    "\n",
    "if x == 0:\n",
    "    print(x, '= 0')\n",
    "elif x > 0:\n",
    "    print(x, '> 0')\n",
    "elif x < 0:\n",
    "    print(x, '< 0')\n",
    "else:\n",
    "    print(x, 'is something else')"
   ]
  },
  {
   "cell_type": "markdown",
   "metadata": {},
   "source": [
    "## For loop"
   ]
  },
  {
   "cell_type": "code",
   "execution_count": 33,
   "metadata": {},
   "outputs": [
    {
     "name": "stdout",
     "output_type": "stream",
     "text": [
      "2 3 5 7 "
     ]
    }
   ],
   "source": [
    "# for loop of items in a list\n",
    "for N in [2, 3, 5, 7]:\n",
    "    print(N, end=' ') # print all on the same line"
   ]
  },
  {
   "cell_type": "code",
   "execution_count": 34,
   "metadata": {},
   "outputs": [
    {
     "name": "stdout",
     "output_type": "stream",
     "text": [
      "0 1 2 3 4 5 6 7 8 9 "
     ]
    }
   ],
   "source": [
    "# for loop in range 0-9\n",
    "for i in range(10):\n",
    "    print(i, end=' ')"
   ]
  },
  {
   "cell_type": "code",
   "execution_count": 35,
   "metadata": {},
   "outputs": [
    {
     "name": "stdout",
     "output_type": "stream",
     "text": [
      "5 6 7 8 9 "
     ]
    }
   ],
   "source": [
    "# in range 5-10\n",
    "for i in range(5, 10):\n",
    "    print(i, end=' ')"
   ]
  },
  {
   "cell_type": "code",
   "execution_count": 36,
   "metadata": {},
   "outputs": [
    {
     "name": "stdout",
     "output_type": "stream",
     "text": [
      "0 2 4 6 8 "
     ]
    }
   ],
   "source": [
    "# in range from 0 to 10 by 2\n",
    "for i in range(0, 10, 2):\n",
    "    print(i, end=' ')"
   ]
  },
  {
   "cell_type": "markdown",
   "metadata": {},
   "source": [
    "## While loop"
   ]
  },
  {
   "cell_type": "code",
   "execution_count": 37,
   "metadata": {},
   "outputs": [
    {
     "name": "stdout",
     "output_type": "stream",
     "text": [
      "0 1 2 3 4 5 6 7 8 9 "
     ]
    }
   ],
   "source": [
    "i = 0\n",
    "while i < 10:\n",
    "    print(i, end=' ')\n",
    "    i += 1"
   ]
  },
  {
   "cell_type": "markdown",
   "metadata": {},
   "source": [
    "## `break` and `continue`\n",
    "- `break` statement breaks out the loop entirely\n",
    "- `continue` statement skips the remainder of the current loop and goes to the next iteration\n",
    "- Can be used in for and while loops"
   ]
  },
  {
   "cell_type": "code",
   "execution_count": 38,
   "metadata": {},
   "outputs": [
    {
     "name": "stdout",
     "output_type": "stream",
     "text": [
      "1 3 5 7 9 11 13 15 17 19 "
     ]
    }
   ],
   "source": [
    "# example of continue\n",
    "# print a string of even numbers\n",
    "for n in range(20):\n",
    "    # check if n is even\n",
    "    if n % 2 == 0:\n",
    "        continue\n",
    "    print(n, end=' ')"
   ]
  },
  {
   "cell_type": "code",
   "execution_count": 39,
   "metadata": {},
   "outputs": [
    {
     "name": "stdout",
     "output_type": "stream",
     "text": [
      "[1, 1, 2, 3, 5, 8, 13, 21, 34, 55, 89]\n"
     ]
    }
   ],
   "source": [
    "# example of break\n",
    "# find fabonacci numbers\n",
    "a, b = 0, 1\n",
    "a_max = 100\n",
    "L = []\n",
    "\n",
    "while True:\n",
    "    (a, b) = (b, a + b)\n",
    "    if a > a_max:\n",
    "        break\n",
    "    else:\n",
    "        L.append(a)\n",
    "print(L)"
   ]
  },
  {
   "cell_type": "markdown",
   "metadata": {},
   "source": [
    "# Functions\n",
    "- Functions can be called using parentheses\n",
    "- Functions have a *name* and some *arguments*\n",
    "- **Keyword arguments** are defined by name"
   ]
  },
  {
   "cell_type": "code",
   "execution_count": 40,
   "metadata": {},
   "outputs": [
    {
     "name": "stdout",
     "output_type": "stream",
     "text": [
      "1--2--3\n"
     ]
    }
   ],
   "source": [
    "# example of keyword argument\n",
    "print(1, 2, 3, sep='--') # sep is one available keyword argument"
   ]
  },
  {
   "cell_type": "markdown",
   "metadata": {},
   "source": [
    "## Defining functions\n",
    "- Functions are defined by `def`\n",
    "- Multiple return values are put in a tuple indicated by `,`"
   ]
  },
  {
   "cell_type": "code",
   "execution_count": 41,
   "metadata": {},
   "outputs": [],
   "source": [
    "# defining a function\n",
    "def fibonacci(N):\n",
    "    L = []\n",
    "    a, b = 0, 1\n",
    "    while len(L) < N:\n",
    "        a, b = b, a + b\n",
    "        L.append(a)\n",
    "    return L"
   ]
  },
  {
   "cell_type": "code",
   "execution_count": 42,
   "metadata": {},
   "outputs": [
    {
     "name": "stdout",
     "output_type": "stream",
     "text": [
      "[1, 1, 2, 3, 5, 8, 13, 21, 34, 55]\n"
     ]
    }
   ],
   "source": [
    "print(fibonacci(10))"
   ]
  },
  {
   "cell_type": "code",
   "execution_count": 43,
   "metadata": {},
   "outputs": [
    {
     "name": "stdout",
     "output_type": "stream",
     "text": [
      "3.0 4.0 (3-4j)\n"
     ]
    }
   ],
   "source": [
    "# returning multiple values\n",
    "def real_imag_conj(val):\n",
    "    return val.real, val.imag, val.conjugate()\n",
    "\n",
    "r, i, c = real_imag_conj(3 + 4j)\n",
    "\n",
    "print(r, i, c)"
   ]
  },
  {
   "cell_type": "markdown",
   "metadata": {},
   "source": [
    "## Default argument values\n",
    "- Specifying values that are used most of the time in functions\n",
    "- Giving the flexibility to change those values"
   ]
  },
  {
   "cell_type": "code",
   "execution_count": 44,
   "metadata": {},
   "outputs": [],
   "source": [
    "# example of defaut argument values\n",
    "def fibonacci_2(N, a=0, b=1):\n",
    "    L=[]\n",
    "    while len(L) < N:\n",
    "        a, b = b, a + b\n",
    "        L.append(a)\n",
    "    return L"
   ]
  },
  {
   "cell_type": "code",
   "execution_count": 45,
   "metadata": {},
   "outputs": [
    {
     "data": {
      "text/plain": [
       "[1, 1, 2, 3, 5, 8, 13, 21, 34, 55]"
      ]
     },
     "execution_count": 45,
     "metadata": {},
     "output_type": "execute_result"
    }
   ],
   "source": [
    "fibonacci_2(10) # using the default arguments"
   ]
  },
  {
   "cell_type": "code",
   "execution_count": 46,
   "metadata": {},
   "outputs": [
    {
     "data": {
      "text/plain": [
       "[2, 2, 4, 6, 10, 16, 26, 42, 68, 110]"
      ]
     },
     "execution_count": 46,
     "metadata": {},
     "output_type": "execute_result"
    }
   ],
   "source": [
    "fibonacci_2(10, 0, 2) # changing the default b to 2"
   ]
  },
  {
   "cell_type": "code",
   "execution_count": 47,
   "metadata": {},
   "outputs": [
    {
     "data": {
      "text/plain": [
       "[2, 2, 4, 6, 10, 16, 26, 42, 68, 110]"
      ]
     },
     "execution_count": 47,
     "metadata": {},
     "output_type": "execute_result"
    }
   ],
   "source": [
    "fibonacci_2(10, b=2, a=0) # specifying by names, order does not matter"
   ]
  },
  {
   "cell_type": "markdown",
   "metadata": {},
   "source": [
    "## Flexible functions\n",
    "- Used for functions that we don't know the number of arguments\n",
    "- `*args` and `**kwargs` catch all arguments that are passed\n",
    "- `*` before a variable means expanding it as a **sequence**\n",
    "- `**` before a variable means expanding it as a **dictionary**\n",
    "- Can also be used in a **function call**"
   ]
  },
  {
   "cell_type": "code",
   "execution_count": 48,
   "metadata": {},
   "outputs": [],
   "source": [
    "# example of flexible function\n",
    "def catch_all(*args, **kwargs):\n",
    "    print(\"args =\", args)\n",
    "    print(\"kargs =\", kwargs)"
   ]
  },
  {
   "cell_type": "code",
   "execution_count": 49,
   "metadata": {},
   "outputs": [
    {
     "name": "stdout",
     "output_type": "stream",
     "text": [
      "args = (1, 2, 3)\n",
      "kargs = {'a': 4, 'b': 5}\n"
     ]
    }
   ],
   "source": [
    "# use of catch_all\n",
    "catch_all(1, 2, 3, a=4, b=5)"
   ]
  },
  {
   "cell_type": "code",
   "execution_count": 50,
   "metadata": {},
   "outputs": [
    {
     "name": "stdout",
     "output_type": "stream",
     "text": [
      "args = ('a',)\n",
      "kargs = {'keyword': 2}\n"
     ]
    }
   ],
   "source": [
    "# another usage\n",
    "catch_all('a', keyword=2)"
   ]
  },
  {
   "cell_type": "code",
   "execution_count": 51,
   "metadata": {},
   "outputs": [
    {
     "name": "stdout",
     "output_type": "stream",
     "text": [
      "args = (1, 2, 3)\n",
      "kargs = {'pi': 3.14}\n"
     ]
    }
   ],
   "source": [
    "# usage in a function call\n",
    "inputs = (1, 2, 3)\n",
    "keywords = {'pi': 3.14}\n",
    "catch_all(*inputs, **keywords)"
   ]
  },
  {
   "cell_type": "markdown",
   "metadata": {},
   "source": [
    "## Anonymous (lambda) functions\n",
    "- Defining the function short and convenient with the `lambda` statement\n",
    "- **Function is an object** in python, so it can be passed as arguments"
   ]
  },
  {
   "cell_type": "code",
   "execution_count": 52,
   "metadata": {},
   "outputs": [
    {
     "data": {
      "text/plain": [
       "3"
      ]
     },
     "execution_count": 52,
     "metadata": {},
     "output_type": "execute_result"
    }
   ],
   "source": [
    "# example of lambda function\n",
    "add = lambda x, y: x + y\n",
    "add(1, 2)"
   ]
  },
  {
   "cell_type": "code",
   "execution_count": 53,
   "metadata": {},
   "outputs": [
    {
     "data": {
      "text/plain": [
       "3"
      ]
     },
     "execution_count": 53,
     "metadata": {},
     "output_type": "execute_result"
    }
   ],
   "source": [
    "# equivalent to:\n",
    "def add(x, y):\n",
    "    return x + y\n",
    "add(1, 2)"
   ]
  },
  {
   "cell_type": "code",
   "execution_count": 54,
   "metadata": {},
   "outputs": [
    {
     "data": {
      "text/plain": [
       "[{'first': 'Alan', 'last': 'Turing', 'YOB': 1912},\n",
       " {'first': 'Grace', 'last': 'Hopper', 'YOB': 1906},\n",
       " {'first': 'Guido', 'last': 'Van Rossum', 'YOB': 1956}]"
      ]
     },
     "execution_count": 54,
     "metadata": {},
     "output_type": "execute_result"
    }
   ],
   "source": [
    "# using lambda function as an argument\n",
    "# sorting a dictionary by a certain key\n",
    "data = [{'first':'Guido', 'last':'Van Rossum', 'YOB':1956},\n",
    "        {'first':'Grace', 'last':'Hopper',     'YOB':1906},\n",
    "        {'first':'Alan',  'last':'Turing',     'YOB':1912}]\n",
    "# sorted alphabetically by first name\n",
    "sorted(data, key=lambda item: item['first'])"
   ]
  },
  {
   "cell_type": "code",
   "execution_count": 55,
   "metadata": {},
   "outputs": [
    {
     "data": {
      "text/plain": [
       "[{'first': 'Grace', 'last': 'Hopper', 'YOB': 1906},\n",
       " {'first': 'Alan', 'last': 'Turing', 'YOB': 1912},\n",
       " {'first': 'Guido', 'last': 'Van Rossum', 'YOB': 1956}]"
      ]
     },
     "execution_count": 55,
     "metadata": {},
     "output_type": "execute_result"
    }
   ],
   "source": [
    "# or by the year of birth\n",
    "sorted(data, key=lambda item: item['YOB'])"
   ]
  },
  {
   "cell_type": "markdown",
   "metadata": {},
   "source": [
    "# Errors and exceptions\n",
    "- There are 3 basic types of errors:\n",
    "    - **Syntax errors** for invalid code in python\n",
    "    - **Runtime errors** for the syntactically valid code failing to execute\n",
    "    - **Sematic errors** for not getting the the expected result\n",
    "    \n",
    "## Runtime errors\n",
    "- The main focus is to cleanly deal with **runtime errors**\n",
    "- We can use `try` and `except` clause to handle runtime exceptions\n",
    "- If an error is raised in the `try` statement, the error will be caught and the `except` statement will be executed\n",
    "- Ambiguity comes when another exception comes up, so it's better to catch exceptions **explicitly**"
   ]
  },
  {
   "cell_type": "code",
   "execution_count": 56,
   "metadata": {},
   "outputs": [
    {
     "name": "stdout",
     "output_type": "stream",
     "text": [
      "a\n"
     ]
    }
   ],
   "source": [
    "# using try except with no error\n",
    "# the try... block will execute and the except... block will not\n",
    "try:\n",
    "    print('a')\n",
    "except:\n",
    "    print('b')"
   ]
  },
  {
   "cell_type": "code",
   "execution_count": 57,
   "metadata": {},
   "outputs": [
    {
     "name": "stdout",
     "output_type": "stream",
     "text": [
      "b\n"
     ]
    }
   ],
   "source": [
    "# using try except with some errors\n",
    "# the try... block will not execute and the except... block will\n",
    "try:\n",
    "    print(1 / 0)\n",
    "except:\n",
    "    print('b')"
   ]
  },
  {
   "cell_type": "code",
   "execution_count": 58,
   "metadata": {},
   "outputs": [
    {
     "name": "stdout",
     "output_type": "stream",
     "text": [
      "0.5\n",
      "0\n"
     ]
    }
   ],
   "source": [
    "# check user's input within a function\n",
    "def safe_divide(a, b):\n",
    "    try:\n",
    "        return a / b\n",
    "    except: \n",
    "        return 0\n",
    "\n",
    "# check normal division\n",
    "print(safe_divide(1, 2))\n",
    "# check zero-division\n",
    "print(safe_divide(1, 0))"
   ]
  },
  {
   "cell_type": "code",
   "execution_count": 59,
   "metadata": {},
   "outputs": [
    {
     "name": "stdout",
     "output_type": "stream",
     "text": [
      "0\n",
      "0.5\n"
     ]
    }
   ],
   "source": [
    "# ambiguity comes when another exception comes up\n",
    "# here we're facing TypeError, but only ZeroDivisionError is handled\n",
    "print(safe_divide(1, '2'))\n",
    "print(safe_divide(1, 2))"
   ]
  },
  {
   "cell_type": "code",
   "execution_count": 60,
   "metadata": {},
   "outputs": [],
   "source": [
    "# so we can catch exceptions explicitly\n",
    "def safe_divide(a, b):\n",
    "    try:\n",
    "        return a / b\n",
    "    except ZeroDivisionError:\n",
    "        # catching zero-division errors only\n",
    "        return 0"
   ]
  },
  {
   "cell_type": "code",
   "execution_count": null,
   "metadata": {},
   "outputs": [],
   "source": [
    "# try except else finally\n",
    "try:\n",
    "    # do something\n",
    "except:\n",
    "    # happens if it fails\n",
    "else: \n",
    "    # happens if it succeeds\n",
    "finally:\n",
    "    # happens no matter what"
   ]
  },
  {
   "cell_type": "markdown",
   "metadata": {},
   "source": [
    "## Raising exceptions\n",
    "- Allows users to figure out what caused the errors\n",
    "- Using `raise` statement to raise a customized exception"
   ]
  },
  {
   "cell_type": "code",
   "execution_count": 61,
   "metadata": {},
   "outputs": [
    {
     "ename": "RuntimeError",
     "evalue": "my error message",
     "output_type": "error",
     "traceback": [
      "\u001b[0;31m---------------------------------------------------------------------------\u001b[0m",
      "\u001b[0;31mRuntimeError\u001b[0m                              Traceback (most recent call last)",
      "\u001b[0;32m<ipython-input-61-cc3cb9ef6197>\u001b[0m in \u001b[0;36m<module>\u001b[0;34m\u001b[0m\n\u001b[1;32m      1\u001b[0m \u001b[0;31m# raising an exception\u001b[0m\u001b[0;34m\u001b[0m\u001b[0;34m\u001b[0m\u001b[0;34m\u001b[0m\u001b[0m\n\u001b[0;32m----> 2\u001b[0;31m \u001b[0;32mraise\u001b[0m \u001b[0mRuntimeError\u001b[0m\u001b[0;34m(\u001b[0m\u001b[0;34m\"my error message\"\u001b[0m\u001b[0;34m)\u001b[0m\u001b[0;34m\u001b[0m\u001b[0;34m\u001b[0m\u001b[0m\n\u001b[0m",
      "\u001b[0;31mRuntimeError\u001b[0m: my error message"
     ]
    }
   ],
   "source": [
    "# raising an exception\n",
    "raise RuntimeError(\"my error message\")"
   ]
  },
  {
   "cell_type": "markdown",
   "metadata": {},
   "source": [
    "# Iterators"
   ]
  },
  {
   "cell_type": "code",
   "execution_count": 1,
   "metadata": {},
   "outputs": [
    {
     "name": "stdout",
     "output_type": "stream",
     "text": [
      "0 1 2 3 4 5 6 7 8 9 "
     ]
    }
   ],
   "source": [
    "# the most basic iterator in python\n",
    "for i in range(10):\n",
    "    print(i, end=' ')"
   ]
  },
  {
   "cell_type": "markdown",
   "metadata": {},
   "source": [
    "- In Python 3, `range` is not a list but a **iterator**. \n",
    "- We can also do iterations over a list."
   ]
  },
  {
   "cell_type": "markdown",
   "metadata": {},
   "source": [
    "## Iterating over lists"
   ]
  },
  {
   "cell_type": "code",
   "execution_count": 3,
   "metadata": {},
   "outputs": [
    {
     "name": "stdout",
     "output_type": "stream",
     "text": [
      "3 5 7 9 11 "
     ]
    }
   ],
   "source": [
    "# iterating over lists\n",
    "for value in [2,4,6,8,10]:\n",
    "    # do something\n",
    "    print(value + 1, end=' ')"
   ]
  },
  {
   "cell_type": "markdown",
   "metadata": {},
   "source": [
    "- The underlying mechanism for the human-readable iterators is that Python automatically checks whether it has an `iterator` interface. \n",
    "- We can check this property using `iter()` function.\n",
    "- The `iter` object is also a container that provides the access to the next valid object, called by `next()`."
   ]
  },
  {
   "cell_type": "code",
   "execution_count": 6,
   "metadata": {},
   "outputs": [
    {
     "data": {
      "text/plain": [
       "<list_iterator at 0x7f7efc888880>"
      ]
     },
     "execution_count": 6,
     "metadata": {},
     "output_type": "execute_result"
    }
   ],
   "source": [
    "# check iterator\n",
    "I = iter([2,4,6,8,10])\n",
    "I"
   ]
  },
  {
   "cell_type": "code",
   "execution_count": 7,
   "metadata": {},
   "outputs": [
    {
     "name": "stdout",
     "output_type": "stream",
     "text": [
      "2\n",
      "4\n"
     ]
    }
   ],
   "source": [
    "# accessing next object\n",
    "print(next(I))\n",
    "print(next(I))"
   ]
  },
  {
   "cell_type": "markdown",
   "metadata": {},
   "source": [
    "## Range"
   ]
  },
  {
   "cell_type": "markdown",
   "metadata": {},
   "source": [
    "- `range()` function with size specified will return a `range` object.\n",
    "- A full list is never explicitly created by using `range`, which saves lots of system memory.\n",
    "- Python's `itertool` library contains a `count` function that acts as an **infinite range**."
   ]
  },
  {
   "cell_type": "code",
   "execution_count": 10,
   "metadata": {},
   "outputs": [
    {
     "data": {
      "text/plain": [
       "range(0, 10)"
      ]
     },
     "execution_count": 10,
     "metadata": {},
     "output_type": "execute_result"
    }
   ],
   "source": [
    "# a range object\n",
    "I_r = range(10)\n",
    "I_r"
   ]
  },
  {
   "cell_type": "code",
   "execution_count": 12,
   "metadata": {},
   "outputs": [
    {
     "data": {
      "text/plain": [
       "<range_iterator at 0x7f7efc888f90>"
      ]
     },
     "execution_count": 12,
     "metadata": {},
     "output_type": "execute_result"
    }
   ],
   "source": [
    "# has a iterator\n",
    "iter(I_r)"
   ]
  },
  {
   "cell_type": "code",
   "execution_count": 15,
   "metadata": {},
   "outputs": [
    {
     "name": "stdout",
     "output_type": "stream",
     "text": [
      "0, 1, 2, 3, 4, 5, 6, 7, 8, 9, "
     ]
    }
   ],
   "source": [
    "# iterating in range 10 ** 12\n",
    "for i in range(10 ** 12):\n",
    "    if i >= 10: break\n",
    "    print(i, end=', ')\n",
    "        "
   ]
  },
  {
   "cell_type": "code",
   "execution_count": 16,
   "metadata": {},
   "outputs": [
    {
     "name": "stdout",
     "output_type": "stream",
     "text": [
      "0, 1, 2, 3, 4, 5, 6, 7, 8, 9, "
     ]
    }
   ],
   "source": [
    "# count from itertool\n",
    "from itertools import count\n",
    "for i in count():\n",
    "    if i >= 10: break\n",
    "    print(i, end=', ')\n",
    "    \n",
    "# if we didn't stop a loop with such a condition, \n",
    "# it will keep going until we stop it, i.e., ctrl-c"
   ]
  },
  {
   "cell_type": "markdown",
   "metadata": {},
   "source": [
    "## Useful iterators\n",
    "### enumerate\n",
    "- When we need to iterate values in an array and keep track of the index.\n",
    "- Python also provides another cleaner version of enumeration."
   ]
  },
  {
   "cell_type": "code",
   "execution_count": 17,
   "metadata": {},
   "outputs": [
    {
     "name": "stdout",
     "output_type": "stream",
     "text": [
      "0 2\n",
      "1 4\n",
      "2 6\n",
      "3 8\n",
      "4 10\n"
     ]
    }
   ],
   "source": [
    "# example of enumeration\n",
    "L = [2,4,6,8,10]\n",
    "for i in range(len(L)):\n",
    "    print(i, L[i])"
   ]
  },
  {
   "cell_type": "code",
   "execution_count": 18,
   "metadata": {},
   "outputs": [
    {
     "name": "stdout",
     "output_type": "stream",
     "text": [
      "0 2\n",
      "1 4\n",
      "2 6\n",
      "3 8\n",
      "4 10\n"
     ]
    }
   ],
   "source": [
    "# cleaner version\n",
    "for i, val in enumerate(L):\n",
    "    print(i, val)"
   ]
  },
  {
   "cell_type": "markdown",
   "metadata": {},
   "source": [
    "### zip\n",
    "- Applies when we have multiple lines to iterate over simutaneously. `zip` does what it means - zipping together iteratebles.\n",
    "- Any number of iterables can be zipped together, and the shortest of them will determine the length of `zip`."
   ]
  },
  {
   "cell_type": "code",
   "execution_count": 19,
   "metadata": {
    "scrolled": false
   },
   "outputs": [
    {
     "name": "stdout",
     "output_type": "stream",
     "text": [
      "2 3\n",
      "4 6\n",
      "6 9\n",
      "8 12\n",
      "10 15\n"
     ]
    }
   ],
   "source": [
    "# example of zip\n",
    "L = [2,4,6,8,10]\n",
    "R = [3,6,9,12,15]\n",
    "for lval, rval in zip(L, R):\n",
    "    print(lval, rval)"
   ]
  },
  {
   "cell_type": "markdown",
   "metadata": {},
   "source": [
    "### map and filter\n",
    "- `map` iterator takes a function and applies it to the values in the iterator.\n",
    "- `filter` only returns values for which the filter function evaluates to be true (the function being passed must return a boolean)."
   ]
  },
  {
   "cell_type": "code",
   "execution_count": 20,
   "metadata": {},
   "outputs": [
    {
     "name": "stdout",
     "output_type": "stream",
     "text": [
      "0 1 4 9 16 25 36 49 64 81 "
     ]
    }
   ],
   "source": [
    "# example of map\n",
    "# find the first 10 square number\n",
    "square = lambda x: x**2\n",
    "for val in map(square, range(10)):\n",
    "    print(val, end=' ')"
   ]
  },
  {
   "cell_type": "code",
   "execution_count": 21,
   "metadata": {},
   "outputs": [
    {
     "name": "stdout",
     "output_type": "stream",
     "text": [
      "0 2 4 6 8 "
     ]
    }
   ],
   "source": [
    "# example of filter\n",
    "# find values up to 10 for which x % 2 is 0\n",
    "is_even = lambda x: x % 2 == 0\n",
    "for val in filter(is_even, range(10)):\n",
    "    print(val, end=' ')"
   ]
  },
  {
   "cell_type": "markdown",
   "metadata": {},
   "source": [
    "### Iterators as function argument\n",
    "- The `*args` syntax can also work with any iterator."
   ]
  },
  {
   "cell_type": "code",
   "execution_count": 22,
   "metadata": {},
   "outputs": [
    {
     "name": "stdout",
     "output_type": "stream",
     "text": [
      "0 1 2 3 4 5 6 7 8 9\n"
     ]
    }
   ],
   "source": [
    "# simple example of *args syntax\n",
    "print(*range(10))"
   ]
  },
  {
   "cell_type": "code",
   "execution_count": 23,
   "metadata": {},
   "outputs": [
    {
     "name": "stdout",
     "output_type": "stream",
     "text": [
      "0 1 4 9 16 25 36 49 64 81\n"
     ]
    }
   ],
   "source": [
    "# compress the map example\n",
    "print(*map(lambda x: x**2, range(10)))"
   ]
  },
  {
   "cell_type": "code",
   "execution_count": 26,
   "metadata": {},
   "outputs": [
    {
     "name": "stdout",
     "output_type": "stream",
     "text": [
      "(1, 'a') (2, 'b') (3, 'c') (4, 'd')\n",
      "(1, 2, 3, 4) ('a', 'b', 'c', 'd')\n"
     ]
    }
   ],
   "source": [
    "# do the opposite of zip\n",
    "L1 = [1,2,3,4]\n",
    "L2 = ['a','b','c','d']\n",
    "z = zip(L1, L2)\n",
    "print(*z)\n",
    "\n",
    "z = zip(L1, L2)\n",
    "new_L1, new_L2 = zip(*z)\n",
    "print(new_L1, new_L2)"
   ]
  },
  {
   "cell_type": "markdown",
   "metadata": {},
   "source": [
    "## Specialized iterators: itertools\n",
    "- The `itertool` module contains a whole host of useful iterators. "
   ]
  },
  {
   "cell_type": "code",
   "execution_count": 27,
   "metadata": {},
   "outputs": [
    {
     "name": "stdout",
     "output_type": "stream",
     "text": [
      "(0, 1, 2) (0, 2, 1) (1, 0, 2) (1, 2, 0) (2, 0, 1) (2, 1, 0)\n"
     ]
    }
   ],
   "source": [
    "# itertools.permutations \n",
    "# iterates over all permutations in a sequence.\n",
    "from itertools import permutations\n",
    "p = permutations(range(3))\n",
    "print(*p)"
   ]
  },
  {
   "cell_type": "code",
   "execution_count": 28,
   "metadata": {},
   "outputs": [
    {
     "name": "stdout",
     "output_type": "stream",
     "text": [
      "('a', 0) ('a', 1) ('a', 2) ('b', 0) ('b', 1) ('b', 2)\n"
     ]
    }
   ],
   "source": [
    "# similar for itertools.combination\n",
    "from itertools import product\n",
    "p = product('ab', range(3))\n",
    "print(*p)"
   ]
  },
  {
   "cell_type": "markdown",
   "metadata": {},
   "source": [
    "# List comprehensions\n",
    "- List comprehensions are a way to compress a list-building `for` loop into a short readable line.\n",
    "- The basic syntax is `[expr for var in iterable]`, where `expr` is any valid expression, `var` is a variable name, and `iterable` is any iterable object. "
   ]
  },
  {
   "cell_type": "code",
   "execution_count": 6,
   "metadata": {},
   "outputs": [
    {
     "data": {
      "text/plain": [
       "[0, 1, 4, 9, 16, 25, 36, 49, 64, 81, 100, 121]"
      ]
     },
     "execution_count": 6,
     "metadata": {},
     "output_type": "execute_result"
    }
   ],
   "source": [
    "# constructing a list of the first 12 perfect squares\n",
    "# normal looping\n",
    "L = []\n",
    "for n in range(12):\n",
    "    L.append(n ** 2)\n",
    "L"
   ]
  },
  {
   "cell_type": "code",
   "execution_count": 7,
   "metadata": {},
   "outputs": [
    {
     "data": {
      "text/plain": [
       "[0, 1, 4, 9, 16, 25, 36, 49, 64, 81, 100, 121]"
      ]
     },
     "execution_count": 7,
     "metadata": {},
     "output_type": "execute_result"
    }
   ],
   "source": [
    "# the equivalent comprehension\n",
    "[n ** 2 for n in range(12)]"
   ]
  },
  {
   "cell_type": "markdown",
   "metadata": {},
   "source": [
    "## Multiple iteration\n",
    "- Multiple iteration applies when you want to build a list from two values. \n",
    "- To achieve this, add another `for` along with a new variable."
   ]
  },
  {
   "cell_type": "code",
   "execution_count": 8,
   "metadata": {},
   "outputs": [
    {
     "data": {
      "text/plain": [
       "[(0, 0), (0, 1), (0, 2), (1, 0), (1, 1), (1, 2)]"
      ]
     },
     "execution_count": 8,
     "metadata": {},
     "output_type": "execute_result"
    }
   ],
   "source": [
    "# iteration with two variables\n",
    "[(i,j) for i in range(2) for j in range(3)]"
   ]
  },
  {
   "cell_type": "markdown",
   "metadata": {},
   "source": [
    "- Note that the second `for` acts as the iterator index, varying the fastest.\n",
    "- The same applies to iterations with more than 2 variables."
   ]
  },
  {
   "cell_type": "markdown",
   "metadata": {},
   "source": [
    "## Conditionals on the iterator\n",
    "- We can further control the iteration by adding a conditional to the end of expression. "
   ]
  },
  {
   "cell_type": "code",
   "execution_count": 9,
   "metadata": {},
   "outputs": [
    {
     "data": {
      "text/plain": [
       "[1, 2, 4, 5, 7, 8, 10, 11, 13, 14, 16, 17, 19]"
      ]
     },
     "execution_count": 9,
     "metadata": {},
     "output_type": "execute_result"
    }
   ],
   "source": [
    "# producing a list of numbers excluding multiples of 3\n",
    "[i for i in range(20) if i % 3 > 0]"
   ]
  },
  {
   "cell_type": "code",
   "execution_count": 11,
   "metadata": {},
   "outputs": [
    {
     "data": {
      "text/plain": [
       "[1, 2, 4, 5, 7, 8, 10, 11, 13, 14, 16, 17, 19]"
      ]
     },
     "execution_count": 11,
     "metadata": {},
     "output_type": "execute_result"
    }
   ],
   "source": [
    "# equivalent loop syntax\n",
    "L = []\n",
    "for val in range(20):\n",
    "    if val % 3:\n",
    "        L.append(val)\n",
    "L"
   ]
  },
  {
   "cell_type": "markdown",
   "metadata": {},
   "source": [
    "## Conditionals on the value"
   ]
  },
  {
   "cell_type": "code",
   "execution_count": 12,
   "metadata": {},
   "outputs": [
    {
     "data": {
      "text/plain": [
       "10"
      ]
     },
     "execution_count": 12,
     "metadata": {},
     "output_type": "execute_result"
    }
   ],
   "source": [
    "# a simple example\n",
    "val = -10\n",
    "val if val >= 0 else -val"
   ]
  },
  {
   "cell_type": "markdown",
   "metadata": {},
   "source": [
    "- Very similar to the `int absval = (val < 0) ? -val : val` operation in Java.\n",
    "- This operation defines the value of a variable on some conditions. This works well with list comprehensions."
   ]
  },
  {
   "cell_type": "code",
   "execution_count": 14,
   "metadata": {},
   "outputs": [
    {
     "data": {
      "text/plain": [
       "[1, -2, -4, 5, 7, -8, -10, 11, 13, -14, -16, 17, 19]"
      ]
     },
     "execution_count": 14,
     "metadata": {},
     "output_type": "execute_result"
    }
   ],
   "source": [
    "# constructing a multiple of 3 excluding multiples of 3 and negating odd numbers\n",
    "[val if val % 2 else -val for val in range(20) if val % 3]"
   ]
  },
  {
   "cell_type": "markdown",
   "metadata": {},
   "source": [
    "- We can also create a **set comprehension** in similar way.\n",
    "- Since sets contain no duplication, this applies to comprehensions as well."
   ]
  },
  {
   "cell_type": "code",
   "execution_count": 15,
   "metadata": {},
   "outputs": [
    {
     "data": {
      "text/plain": [
       "{0, 1, 4, 9, 16, 25, 36, 49, 64, 81, 100, 121}"
      ]
     },
     "execution_count": 15,
     "metadata": {},
     "output_type": "execute_result"
    }
   ],
   "source": [
    "# example of set comprehension\n",
    "{n**2 for n in range(12)}"
   ]
  },
  {
   "cell_type": "code",
   "execution_count": 16,
   "metadata": {},
   "outputs": [
    {
     "data": {
      "text/plain": [
       "{0, 1, 2}"
      ]
     },
     "execution_count": 16,
     "metadata": {},
     "output_type": "execute_result"
    }
   ],
   "source": [
    "# no duplication\n",
    "{a % 3 for a in range(1000)}"
   ]
  },
  {
   "cell_type": "markdown",
   "metadata": {},
   "source": [
    "- Adding a `:` would allow us to create a **dict comprehension**."
   ]
  },
  {
   "cell_type": "code",
   "execution_count": 17,
   "metadata": {},
   "outputs": [
    {
     "data": {
      "text/plain": [
       "{0: 0, 1: 1, 2: 4, 3: 9, 4: 16, 5: 25}"
      ]
     },
     "execution_count": 17,
     "metadata": {},
     "output_type": "execute_result"
    }
   ],
   "source": [
    "# example of dict comprehension\n",
    "{n:n**2 for n in range(6)}"
   ]
  },
  {
   "cell_type": "markdown",
   "metadata": {},
   "source": [
    "# Generators\n",
    "- A generator expression is essentially a **list comprehension** in which elements are generated **as needed** rather than all at once. They are similar, but not totally the same."
   ]
  },
  {
   "cell_type": "code",
   "execution_count": 18,
   "metadata": {},
   "outputs": [
    {
     "data": {
      "text/plain": [
       "[0, 1, 4, 9, 16, 25, 36, 49, 64, 81, 100, 121]"
      ]
     },
     "execution_count": 18,
     "metadata": {},
     "output_type": "execute_result"
    }
   ],
   "source": [
    "# list comprehension\n",
    "[n ** 2 for n in range(12)]"
   ]
  },
  {
   "cell_type": "code",
   "execution_count": 19,
   "metadata": {},
   "outputs": [
    {
     "data": {
      "text/plain": [
       "<generator object <genexpr> at 0x7ffd128582e0>"
      ]
     },
     "execution_count": 19,
     "metadata": {},
     "output_type": "execute_result"
    }
   ],
   "source": [
    "# generator expression\n",
    "(n ** 2 for n in range(12))"
   ]
  },
  {
   "cell_type": "markdown",
   "metadata": {},
   "source": [
    "- Printing the generator does not print its contents. \n",
    "- To print its content, we can pass it to the `list` constructor."
   ]
  },
  {
   "cell_type": "code",
   "execution_count": 20,
   "metadata": {},
   "outputs": [
    {
     "data": {
      "text/plain": [
       "[0, 1, 4, 9, 16, 25, 36, 49, 64, 81, 100, 121]"
      ]
     },
     "execution_count": 20,
     "metadata": {},
     "output_type": "execute_result"
    }
   ],
   "source": [
    "G = (n ** 2 for n in range(12))\n",
    "list(G)"
   ]
  },
  {
   "cell_type": "markdown",
   "metadata": {},
   "source": [
    "- A list is a collection of values, while a generator is a **recipe of producing values**.\n",
    "- A generator does not actually compute the values until they are needed.\n",
    "- The benefits of generator relates to memory efficiency and computational efficiency. The size of a generator expression can be unlimited.\n",
    "- In iteration, both lists and generator expressions act the same."
   ]
  },
  {
   "cell_type": "code",
   "execution_count": 22,
   "metadata": {},
   "outputs": [
    {
     "name": "stdout",
     "output_type": "stream",
     "text": [
      "0 1 4 9 16 25 36 49 64 81 100 121 0 1 4 9 16 25 36 49 64 81 100 121 "
     ]
    }
   ],
   "source": [
    "# list in iteration\n",
    "L = [n ** 2 for n in range(12)]\n",
    "for val in L:\n",
    "    print(val, end=' ')\n",
    "    \n",
    "# generator in iteration\n",
    "G = (n ** 2 for n in range(12))\n",
    "for val in G:\n",
    "    print(val, end=' ')"
   ]
  },
  {
   "cell_type": "code",
   "execution_count": 24,
   "metadata": {},
   "outputs": [
    {
     "name": "stdout",
     "output_type": "stream",
     "text": [
      "0 1 2 3 4 5 6 7 8 9 10 "
     ]
    }
   ],
   "source": [
    "# example of infinite generator expression count()\n",
    "# it would go forever if we do not stop it\n",
    "from itertools import count\n",
    "for i in count():\n",
    "    print(i, end=' ')\n",
    "    if i >= 10: break"
   ]
  },
  {
   "cell_type": "code",
   "execution_count": 25,
   "metadata": {},
   "outputs": [
    {
     "name": "stdout",
     "output_type": "stream",
     "text": [
      "1 11 13 17 19 23 29 31 37 41 "
     ]
    }
   ],
   "source": [
    "# another example using count()\n",
    "# a prime number generator\n",
    "factors = [2, 3, 5, 7]\n",
    "G = (i for i in count() if all(i % n > 0 for n in factors))\n",
    "for val in G:\n",
    "    print(val, end=' ')\n",
    "    if val > 40: break"
   ]
  },
  {
   "cell_type": "markdown",
   "metadata": {},
   "source": [
    "- A list can be iterated multiple times, whereas a generator expression is **single use**.\n",
    "- This property is useful since we can pause the iteration and restart it somewhere."
   ]
  },
  {
   "cell_type": "code",
   "execution_count": 26,
   "metadata": {},
   "outputs": [
    {
     "data": {
      "text/plain": [
       "[0, 1, 4, 9, 16, 25, 36, 49, 64, 81, 100, 121]"
      ]
     },
     "execution_count": 26,
     "metadata": {},
     "output_type": "execute_result"
    }
   ],
   "source": [
    "# use G for one iteration\n",
    "G = (n ** 2 for n in range(12))\n",
    "list(G)"
   ]
  },
  {
   "cell_type": "code",
   "execution_count": 28,
   "metadata": {},
   "outputs": [
    {
     "data": {
      "text/plain": [
       "[]"
      ]
     },
     "execution_count": 28,
     "metadata": {},
     "output_type": "execute_result"
    }
   ],
   "source": [
    "# cannot be used for the second iteration\n",
    "list(G)"
   ]
  },
  {
   "cell_type": "code",
   "execution_count": 31,
   "metadata": {},
   "outputs": [
    {
     "name": "stdout",
     "output_type": "stream",
     "text": [
      "0 1 4 9 16 25 36 \n",
      "doing something in between\n",
      "49 64 81 100 121 "
     ]
    }
   ],
   "source": [
    "# pausing the iteration and restart it later\n",
    "G = (n ** 2 for n in range(12))\n",
    "for n in G:\n",
    "    print(n, end=' ')\n",
    "    if n > 30: break\n",
    "print(\"\\ndoing something in between\")\n",
    "for n in G:\n",
    "    print(n, end=' ')"
   ]
  },
  {
   "cell_type": "markdown",
   "metadata": {},
   "source": [
    "## Generator functions: using `yield` statement\n",
    "- When constructing more complicated generators, we use **generator functions** with `yield` statement.\n",
    "- Similar to lists, there are two ways to construct equivalent generators."
   ]
  },
  {
   "cell_type": "code",
   "execution_count": 32,
   "metadata": {},
   "outputs": [
    {
     "name": "stdout",
     "output_type": "stream",
     "text": [
      "0 1 4 9 16 25 36 49 64 81 100 121\n",
      "0 1 4 9 16 25 36 49 64 81 100 121\n"
     ]
    }
   ],
   "source": [
    "# one way\n",
    "G1 = (n ** 2 for n in range(12))\n",
    "\n",
    "# another way\n",
    "def gen():\n",
    "    for n in range(12):\n",
    "        yield n ** 2\n",
    "G2 = gen()\n",
    "\n",
    "print(*G1)\n",
    "print(*G2)"
   ]
  },
  {
   "cell_type": "markdown",
   "metadata": {},
   "source": [
    "- Instead of returning a single value with `return`, a generator function uses `yield` to yield a (possibly infinite) sequence of values.\n",
    "- Such generator function preserves all properties of a generator expression as above."
   ]
  },
  {
   "cell_type": "markdown",
   "metadata": {},
   "source": [
    "## Example: prime number generator\n",
    "- Use a generator function to construct an unbounded series of prime numbers.\n",
    "- The algorithm being used is the Sieve of Eratosthenes, which simply means that by removing all multiples of each values starting from 2, eventually only primes are left."
   ]
  },
  {
   "cell_type": "code",
   "execution_count": 33,
   "metadata": {},
   "outputs": [
    {
     "name": "stdout",
     "output_type": "stream",
     "text": [
      "2 3 5 7 11 13 17 19 23 29 31 37 41 43 47 53 59 61 67\n"
     ]
    }
   ],
   "source": [
    "# generates primes up to N\n",
    "def gen_primes(N):\n",
    "    primes = set()\n",
    "    for n in range(2, N):\n",
    "        if all(n % p > 0 for p in primes):\n",
    "            primes.add(n)\n",
    "            yield n\n",
    "print(*gen_primes(70))"
   ]
  },
  {
   "cell_type": "markdown",
   "metadata": {},
   "source": [
    "# Modules and packages\n",
    "- Modules and packages are one feature in Python providing more specified functionality.\n",
    "\n",
    "## Loading modules: `import` statement\n",
    "- `import` statement is used to load built-in and third-party modules.\n",
    "- There are few ways to use the statement, ranked from the most recommended to the least.\n",
    "\n",
    "### Explicit module import\n",
    "- Explicit import preserves the module's content in a namespace.\n",
    "- The namespace is used to refer to its content with a `.`."
   ]
  },
  {
   "cell_type": "code",
   "execution_count": 34,
   "metadata": {},
   "outputs": [
    {
     "data": {
      "text/plain": [
       "-1.0"
      ]
     },
     "execution_count": 34,
     "metadata": {},
     "output_type": "execute_result"
    }
   ],
   "source": [
    "# example of explicit module import\n",
    "# and the use of namespace\n",
    "import math\n",
    "math.cos(math.pi)"
   ]
  },
  {
   "cell_type": "markdown",
   "metadata": {},
   "source": [
    "### Explicit module import by alias\n",
    "- For longer module names, it is more convenient to create a shorter alias for the namespace.\n",
    "- This feature is commonly used by `import ... as ...`."
   ]
  },
  {
   "cell_type": "code",
   "execution_count": 35,
   "metadata": {},
   "outputs": [
    {
     "data": {
      "text/plain": [
       "-1.0"
      ]
     },
     "execution_count": 35,
     "metadata": {},
     "output_type": "execute_result"
    }
   ],
   "source": [
    "# example of import by alias\n",
    "import numpy as np\n",
    "np.cos(np.pi)"
   ]
  },
  {
   "cell_type": "markdown",
   "metadata": {},
   "source": [
    "### Explicit import of module contents\n",
    "- We use `from ... import ...` when we only want to import few functions from a module.\n",
    "- In this way, we don't need to refer the namespace (use the local namespace)."
   ]
  },
  {
   "cell_type": "code",
   "execution_count": 36,
   "metadata": {},
   "outputs": [
    {
     "data": {
      "text/plain": [
       "-1.0"
      ]
     },
     "execution_count": 36,
     "metadata": {},
     "output_type": "execute_result"
    }
   ],
   "source": [
    "# example\n",
    "from math import cos, pi\n",
    "cos(pi)"
   ]
  },
  {
   "cell_type": "markdown",
   "metadata": {},
   "source": [
    "### Implicit import of module contents\n",
    "- We use `from ... import *` when we want to import the entire module content into the local namespace.\n",
    "- The problem is that such import sometimes overwrites function names you don't intend to."
   ]
  },
  {
   "cell_type": "code",
   "execution_count": 37,
   "metadata": {},
   "outputs": [
    {
     "data": {
      "text/plain": [
       "1.0"
      ]
     },
     "execution_count": 37,
     "metadata": {},
     "output_type": "execute_result"
    }
   ],
   "source": [
    "# example\n",
    "from math import *\n",
    "sin(pi) ** 2 + cos(pi) ** 2"
   ]
  },
  {
   "cell_type": "markdown",
   "metadata": {},
   "source": [
    "# String manipulation and regular expressions\n",
    "- It is possible to define multi-line of strings with a `\"\"\"` syntax surrounded."
   ]
  },
  {
   "cell_type": "code",
   "execution_count": 38,
   "metadata": {},
   "outputs": [],
   "source": [
    "# multiple line of string\n",
    "multipleline = \"\"\"\n",
    "    one\n",
    "    two\n",
    "    three\n",
    "    \"\"\""
   ]
  },
  {
   "cell_type": "markdown",
   "metadata": {},
   "source": [
    "## Simple string manipulation\n",
    "- Python provides convenient built-in string operating methods.\n",
    "\n",
    "### Adjusting case"
   ]
  },
  {
   "cell_type": "code",
   "execution_count": 44,
   "metadata": {},
   "outputs": [
    {
     "data": {
      "text/plain": [
       "'HAHAHAHAH HAH HAAA'"
      ]
     },
     "execution_count": 44,
     "metadata": {},
     "output_type": "execute_result"
    }
   ],
   "source": [
    "text = \"hahaHAhAh hAh HaaA\"\n",
    "# upper()\n",
    "text.upper()"
   ]
  },
  {
   "cell_type": "code",
   "execution_count": 45,
   "metadata": {},
   "outputs": [
    {
     "data": {
      "text/plain": [
       "'hahahahah hah haaa'"
      ]
     },
     "execution_count": 45,
     "metadata": {},
     "output_type": "execute_result"
    }
   ],
   "source": [
    "# lower()\n",
    "text.lower()"
   ]
  },
  {
   "cell_type": "code",
   "execution_count": 47,
   "metadata": {},
   "outputs": [
    {
     "data": {
      "text/plain": [
       "'Hahahahah Hah Haaa'"
      ]
     },
     "execution_count": 47,
     "metadata": {},
     "output_type": "execute_result"
    }
   ],
   "source": [
    "# title()\n",
    "text.title()"
   ]
  },
  {
   "cell_type": "code",
   "execution_count": 48,
   "metadata": {},
   "outputs": [
    {
     "data": {
      "text/plain": [
       "'Hahahahah hah haaa'"
      ]
     },
     "execution_count": 48,
     "metadata": {},
     "output_type": "execute_result"
    }
   ],
   "source": [
    "# capitalize()\n",
    "text.capitalize()"
   ]
  },
  {
   "cell_type": "code",
   "execution_count": 49,
   "metadata": {},
   "outputs": [
    {
     "data": {
      "text/plain": [
       "'HAHAhaHaH HaH hAAa'"
      ]
     },
     "execution_count": 49,
     "metadata": {},
     "output_type": "execute_result"
    }
   ],
   "source": [
    "# swapcase()\n",
    "text.swapcase()"
   ]
  },
  {
   "cell_type": "markdown",
   "metadata": {},
   "source": [
    "### Adding & removing spaces\n",
    "- The most basic method is `strip()`, which removes the white spaces (or other characters) from the begining or end of string.\n",
    "- We can control removing which side by `lstrip()` and `rstrip()`."
   ]
  },
  {
   "cell_type": "code",
   "execution_count": 51,
   "metadata": {},
   "outputs": [
    {
     "data": {
      "text/plain": [
       "'content with space'"
      ]
     },
     "execution_count": 51,
     "metadata": {},
     "output_type": "execute_result"
    }
   ],
   "source": [
    "line = '      content with space     '\n",
    "# use of strip()\n",
    "line.strip()"
   ]
  },
  {
   "cell_type": "code",
   "execution_count": 52,
   "metadata": {},
   "outputs": [
    {
     "data": {
      "text/plain": [
       "'content with space     '"
      ]
     },
     "execution_count": 52,
     "metadata": {},
     "output_type": "execute_result"
    }
   ],
   "source": [
    "# lstrip()\n",
    "line.lstrip()"
   ]
  },
  {
   "cell_type": "code",
   "execution_count": 53,
   "metadata": {},
   "outputs": [
    {
     "data": {
      "text/plain": [
       "'      content with space'"
      ]
     },
     "execution_count": 53,
     "metadata": {},
     "output_type": "execute_result"
    }
   ],
   "source": [
    "# rstrip()\n",
    "line.rstrip()"
   ]
  },
  {
   "cell_type": "code",
   "execution_count": 55,
   "metadata": {},
   "outputs": [
    {
     "data": {
      "text/plain": [
       "'10392'"
      ]
     },
     "execution_count": 55,
     "metadata": {},
     "output_type": "execute_result"
    }
   ],
   "source": [
    "# stripping characters off\n",
    "num = \"00010392000\"\n",
    "num.strip('0')"
   ]
  },
  {
   "cell_type": "markdown",
   "metadata": {},
   "source": [
    "- The opposite operation of `strip()` is `center()`, `ljust()` and `rjust()`, which adds spaces or other characters in some specified locations."
   ]
  },
  {
   "cell_type": "code",
   "execution_count": 56,
   "metadata": {},
   "outputs": [
    {
     "data": {
      "text/plain": [
       "'     this is the content      '"
      ]
     },
     "execution_count": 56,
     "metadata": {},
     "output_type": "execute_result"
    }
   ],
   "source": [
    "# center() adds spaces around the given string\n",
    "line = \"this is the content\"\n",
    "line.center(30)"
   ]
  },
  {
   "cell_type": "code",
   "execution_count": 57,
   "metadata": {},
   "outputs": [
    {
     "data": {
      "text/plain": [
       "'this is the content00000000000'"
      ]
     },
     "execution_count": 57,
     "metadata": {},
     "output_type": "execute_result"
    }
   ],
   "source": [
    "# ljust() adds spaces or characters from right\n",
    "line.ljust(30, '0')"
   ]
  },
  {
   "cell_type": "code",
   "execution_count": 60,
   "metadata": {},
   "outputs": [
    {
     "data": {
      "text/plain": [
       "'00000000000this is the content'"
      ]
     },
     "execution_count": 60,
     "metadata": {},
     "output_type": "execute_result"
    }
   ],
   "source": [
    "# rjust() does the same from left\n",
    "line.rjust(30, '0')"
   ]
  },
  {
   "cell_type": "code",
   "execution_count": 61,
   "metadata": {},
   "outputs": [
    {
     "data": {
      "text/plain": [
       "'00000000000this is the content'"
      ]
     },
     "execution_count": 61,
     "metadata": {},
     "output_type": "execute_result"
    }
   ],
   "source": [
    "# The same operation of adding 0s can be achieved by zfill()\n",
    "line.zfill(30)"
   ]
  },
  {
   "cell_type": "markdown",
   "metadata": {},
   "source": [
    "### Finding and replacing substrings\n",
    "- `find()`, `index()` function very similarly by returning the index of the **first occurence from the start** of a certain pattern within the string. The only difference is `find()` returns -1 if the pattern isn't found, whereas `index()` raises an error.\n",
    "- `rfind()`, `rindex()` acts the same except they search for the **first occurence from the end**."
   ]
  },
  {
   "cell_type": "code",
   "execution_count": 67,
   "metadata": {},
   "outputs": [
    {
     "data": {
      "text/plain": [
       "10"
      ]
     },
     "execution_count": 67,
     "metadata": {},
     "output_type": "execute_result"
    }
   ],
   "source": [
    "line = 'This is a line of meaningless words line'\n",
    "# use of find()\n",
    "line.find('line')"
   ]
  },
  {
   "cell_type": "code",
   "execution_count": 68,
   "metadata": {},
   "outputs": [
    {
     "data": {
      "text/plain": [
       "-1"
      ]
     },
     "execution_count": 68,
     "metadata": {},
     "output_type": "execute_result"
    }
   ],
   "source": [
    "# find() with patterns do not exist\n",
    "line.find('benwilliams')"
   ]
  },
  {
   "cell_type": "code",
   "execution_count": 69,
   "metadata": {},
   "outputs": [
    {
     "data": {
      "text/plain": [
       "10"
      ]
     },
     "execution_count": 69,
     "metadata": {},
     "output_type": "execute_result"
    }
   ],
   "source": [
    "# use of index()\n",
    "line.index('line')"
   ]
  },
  {
   "cell_type": "code",
   "execution_count": 70,
   "metadata": {},
   "outputs": [
    {
     "ename": "ValueError",
     "evalue": "substring not found",
     "output_type": "error",
     "traceback": [
      "\u001b[0;31m---------------------------------------------------------------------------\u001b[0m",
      "\u001b[0;31mValueError\u001b[0m                                Traceback (most recent call last)",
      "\u001b[0;32m<ipython-input-70-07a65291ecf4>\u001b[0m in \u001b[0;36m<module>\u001b[0;34m\u001b[0m\n\u001b[1;32m      1\u001b[0m \u001b[0;31m# index() with non-existing pattern\u001b[0m\u001b[0;34m\u001b[0m\u001b[0;34m\u001b[0m\u001b[0;34m\u001b[0m\u001b[0m\n\u001b[0;32m----> 2\u001b[0;31m \u001b[0mline\u001b[0m\u001b[0;34m.\u001b[0m\u001b[0mindex\u001b[0m\u001b[0;34m(\u001b[0m\u001b[0;34m'prezbenwilliams'\u001b[0m\u001b[0;34m)\u001b[0m\u001b[0;34m\u001b[0m\u001b[0;34m\u001b[0m\u001b[0m\n\u001b[0m",
      "\u001b[0;31mValueError\u001b[0m: substring not found"
     ]
    }
   ],
   "source": [
    "# index() with non-existing pattern\n",
    "line.index('prezbenwilliams')"
   ]
  },
  {
   "cell_type": "code",
   "execution_count": 71,
   "metadata": {},
   "outputs": [
    {
     "data": {
      "text/plain": [
       "36"
      ]
     },
     "execution_count": 71,
     "metadata": {},
     "output_type": "execute_result"
    }
   ],
   "source": [
    "# use of rfind() (rindex() does the same)\n",
    "line.rfind('line')"
   ]
  },
  {
   "cell_type": "markdown",
   "metadata": {},
   "source": [
    "- In addition, `replace()` can replace a given sub-string with a new one. \n",
    "- A more flexible way of replacing strings can refer to regular expressions."
   ]
  },
  {
   "cell_type": "code",
   "execution_count": 73,
   "metadata": {},
   "outputs": [
    {
     "data": {
      "text/plain": [
       "'This is a prezbenwilliams of meaningless words prezbenwilliams'"
      ]
     },
     "execution_count": 73,
     "metadata": {},
     "output_type": "execute_result"
    }
   ],
   "source": [
    "# use of replace to substitute 'line' by 'prezbenwilliams'\n",
    "line.replace('line', 'prezbenwilliams')"
   ]
  },
  {
   "cell_type": "markdown",
   "metadata": {},
   "source": [
    "### Splitting and partitioning string\n",
    "- `partition()` and `split()` help us find a sequence of sub-strings given some string.\n",
    "- `partition()` returns a tuple `(string-before-split, split-point, string-after-split)`.\n",
    "- `rpartiotion` does things from another direction."
   ]
  },
  {
   "cell_type": "code",
   "execution_count": 76,
   "metadata": {},
   "outputs": [
    {
     "data": {
      "text/plain": [
       "('This is a ', 'line', ' of meaningless words line')"
      ]
     },
     "execution_count": 76,
     "metadata": {},
     "output_type": "execute_result"
    }
   ],
   "source": [
    "# use of partition()\n",
    "line.partition('line')"
   ]
  },
  {
   "cell_type": "code",
   "execution_count": 77,
   "metadata": {},
   "outputs": [
    {
     "data": {
      "text/plain": [
       "('This is a line of meaningless words ', 'line', '')"
      ]
     },
     "execution_count": 77,
     "metadata": {},
     "output_type": "execute_result"
    }
   ],
   "source": [
    "# rparition() does things from another direction\n",
    "line.rpartition('line')"
   ]
  },
  {
   "cell_type": "markdown",
   "metadata": {},
   "source": [
    "- `split()` find all instances of the split point and returns the substring in between in a `list`.\n",
    "- The default of `split()` seperates a string by spaces."
   ]
  },
  {
   "cell_type": "code",
   "execution_count": 78,
   "metadata": {},
   "outputs": [
    {
     "data": {
      "text/plain": [
       "['This', 'is', 'a', 'line', 'of', 'meaningless', 'words', 'line']"
      ]
     },
     "execution_count": 78,
     "metadata": {},
     "output_type": "execute_result"
    }
   ],
   "source": [
    "# use of split()\n",
    "line.split()"
   ]
  },
  {
   "cell_type": "markdown",
   "metadata": {},
   "source": [
    "- `splitlines()` acts similarly except it only splits between lines."
   ]
  },
  {
   "cell_type": "code",
   "execution_count": 80,
   "metadata": {},
   "outputs": [
    {
     "data": {
      "text/plain": [
       "['hhhhaaaa', 'jjjjjaaaaa', 'bbbbabiala']"
      ]
     },
     "execution_count": 80,
     "metadata": {},
     "output_type": "execute_result"
    }
   ],
   "source": [
    "# use of splitlines()\n",
    "mulline = \"\"\"hhhhaaaa\n",
    "jjjjjaaaaa\n",
    "bbbbabiala\n",
    "\"\"\"\n",
    "mulline.splitlines()"
   ]
  },
  {
   "cell_type": "markdown",
   "metadata": {},
   "source": [
    "- `join()` undoes a split and joins a list with a given seperator."
   ]
  },
  {
   "cell_type": "code",
   "execution_count": 81,
   "metadata": {},
   "outputs": [
    {
     "data": {
      "text/plain": [
       "'1--2--3'"
      ]
     },
     "execution_count": 81,
     "metadata": {},
     "output_type": "execute_result"
    }
   ],
   "source": [
    "# use of join()\n",
    "'--'.join(['1', '2', '3'])"
   ]
  },
  {
   "cell_type": "code",
   "execution_count": 87,
   "metadata": {},
   "outputs": [
    {
     "name": "stdout",
     "output_type": "stream",
     "text": [
      "this is the first line\n",
      "second line\n",
      "来自黑暗寒冬的随从们、仆从们、士兵们，听从克尔苏加德的召唤\n",
      "Déjà vu\n"
     ]
    }
   ],
   "source": [
    "# use \\n to join with multiple lines\n",
    "print(\n",
    "    '\\n'.join(['this is the first line', 'second line', '来自黑暗寒冬的随从们、仆从们、士兵们，听从克尔苏加德的召唤', 'Déjà vu']))"
   ]
  },
  {
   "cell_type": "markdown",
   "metadata": {},
   "source": [
    "## Format strings\n",
    "- Sometimes we need to transform other value types to strings, using `str()`."
   ]
  },
  {
   "cell_type": "code",
   "execution_count": 88,
   "metadata": {},
   "outputs": [
    {
     "data": {
      "text/plain": [
       "'3.14'"
      ]
     },
     "execution_count": 88,
     "metadata": {},
     "output_type": "execute_result"
    }
   ],
   "source": [
    "# transform a double to string\n",
    "pi = 3.14\n",
    "str(pi)"
   ]
  },
  {
   "cell_type": "code",
   "execution_count": 92,
   "metadata": {},
   "outputs": [
    {
     "data": {
      "text/plain": [
       "'3.14 hhhhha yes'"
      ]
     },
     "execution_count": 92,
     "metadata": {},
     "output_type": "execute_result"
    }
   ],
   "source": [
    "# string combination\n",
    "str(pi) + \" hhhhha \" + \"yes\""
   ]
  },
  {
   "cell_type": "markdown",
   "metadata": {},
   "source": [
    "- A more flexible way to achieve this is to use **format strings**, where places specified strings into special markers `{}`.\n",
    "- For multiple markers, we can use index or key as the markers.\n",
    "- In addition, for numerical values, we can specify the format."
   ]
  },
  {
   "cell_type": "code",
   "execution_count": 93,
   "metadata": {},
   "outputs": [
    {
     "data": {
      "text/plain": [
       "'The value of pi is 3.14'"
      ]
     },
     "execution_count": 93,
     "metadata": {},
     "output_type": "execute_result"
    }
   ],
   "source": [
    "# example of format strings\n",
    "\"The value of pi is {}\".format(pi)"
   ]
  },
  {
   "cell_type": "code",
   "execution_count": 94,
   "metadata": {},
   "outputs": [
    {
     "data": {
      "text/plain": [
       "'First letter: A, last letter: Z'"
      ]
     },
     "execution_count": 94,
     "metadata": {},
     "output_type": "execute_result"
    }
   ],
   "source": [
    "# use index as markers\n",
    "\"First letter: {0}, last letter: {1}\".format('A', 'Z')"
   ]
  },
  {
   "cell_type": "code",
   "execution_count": 95,
   "metadata": {},
   "outputs": [
    {
     "data": {
      "text/plain": [
       "'First letter: A, last letter: Z'"
      ]
     },
     "execution_count": 95,
     "metadata": {},
     "output_type": "execute_result"
    }
   ],
   "source": [
    "# use key as markers\n",
    "\"First letter: {first}, last letter: {last}\".format(last='Z', first='A')"
   ]
  },
  {
   "cell_type": "code",
   "execution_count": 97,
   "metadata": {},
   "outputs": [
    {
     "data": {
      "text/plain": [
       "'pi = 3.140'"
      ]
     },
     "execution_count": 97,
     "metadata": {},
     "output_type": "execute_result"
    }
   ],
   "source": [
    "# specify the format of numerical values\n",
    "# the .3f encodes the desired digits beyond decimal\n",
    "\"pi = {0:.3f}\".format(pi)"
   ]
  },
  {
   "cell_type": "markdown",
   "metadata": {},
   "source": [
    "## Flexible pattern matching with regular expressions\n",
    "- The built-in regular expression allows us to do more flexible string manipulations.\n",
    "- Regular expressions are fundamentally a means of **flexible pattern matching** in strings.\n",
    "- The regular expression is contained in the built-in `re` module."
   ]
  },
  {
   "cell_type": "code",
   "execution_count": 99,
   "metadata": {},
   "outputs": [],
   "source": [
    "# import the regular expression module\n",
    "import re"
   ]
  },
  {
   "cell_type": "code",
   "execution_count": 100,
   "metadata": {},
   "outputs": [
    {
     "data": {
      "text/plain": [
       "['This', 'is', 'a', 'line', 'of', 'meaningless', 'words', 'line']"
      ]
     },
     "execution_count": 100,
     "metadata": {},
     "output_type": "execute_result"
    }
   ],
   "source": [
    "# compile a regular expression\n",
    "# here \\s stands for any white spaces\n",
    "# and + stands for one or more entity precceding it\n",
    "regex = re.compile('\\s+')\n",
    "\n",
    "# the split() returns a list of substrings that matches the pattern\n",
    "regex.split(line)"
   ]
  },
  {
   "cell_type": "markdown",
   "metadata": {},
   "source": [
    "- `match` can tell whether the string pattern matches the regex expression."
   ]
  },
  {
   "cell_type": "code",
   "execution_count": 101,
   "metadata": {},
   "outputs": [
    {
     "name": "stdout",
     "output_type": "stream",
     "text": [
      "'   ' matches\n",
      "'abc  ' not matches\n",
      "'    abc' matches\n"
     ]
    }
   ],
   "source": [
    "for s in [\"   \", \"abc  \", \"    abc\"]:\n",
    "    if regex.match(s):\n",
    "        print(repr(s), \"matches\")\n",
    "    else:\n",
    "        print(repr(s), \"not matches\")"
   ]
  },
  {
   "cell_type": "markdown",
   "metadata": {},
   "source": [
    "- `search()` can find the index of the first pattern matching the regex."
   ]
  },
  {
   "cell_type": "code",
   "execution_count": 102,
   "metadata": {},
   "outputs": [
    {
     "data": {
      "text/plain": [
       "10"
      ]
     },
     "execution_count": 102,
     "metadata": {},
     "output_type": "execute_result"
    }
   ],
   "source": [
    "# example of search()\n",
    "regex = re.compile('line')\n",
    "match = regex.search(line)\n",
    "match.start()"
   ]
  },
  {
   "cell_type": "markdown",
   "metadata": {},
   "source": [
    "- `sub()` operates like replace in string. "
   ]
  },
  {
   "cell_type": "code",
   "execution_count": 104,
   "metadata": {},
   "outputs": [
    {
     "data": {
      "text/plain": [
       "'This is a LINE of meaningless words LINE'"
      ]
     },
     "execution_count": 104,
     "metadata": {},
     "output_type": "execute_result"
    }
   ],
   "source": [
    "# example of sub()\n",
    "regex.sub('LINE', line)"
   ]
  },
  {
   "cell_type": "markdown",
   "metadata": {},
   "source": [
    "### More advanced usage"
   ]
  },
  {
   "cell_type": "code",
   "execution_count": 110,
   "metadata": {},
   "outputs": [
    {
     "data": {
      "text/plain": [
       "['kjhsddfkjh@gmail.com', 'khfkbsdfsef@ubc.com']"
      ]
     },
     "execution_count": 110,
     "metadata": {},
     "output_type": "execute_result"
    }
   ],
   "source": [
    "# a more complex example: matching email address\n",
    "email = re.compile('\\w+@\\w+\\.[a-z]{3}')\n",
    "text = \"ihisfsefiseeoisefhi try kjhsddfkjh@gmail.com or khfkbsdfsef@ubc.com\"\n",
    "email.findall(text)"
   ]
  },
  {
   "cell_type": "code",
   "execution_count": 112,
   "metadata": {},
   "outputs": [
    {
     "data": {
      "text/plain": [
       "'ihisfsefiseeoisefhi try --@--.-- or --@--.--'"
      ]
     },
     "execution_count": 112,
     "metadata": {},
     "output_type": "execute_result"
    }
   ],
   "source": [
    "# do some further operations, like substitution\n",
    "email.sub('--@--.--', text)"
   ]
  },
  {
   "cell_type": "markdown",
   "metadata": {},
   "source": [
    "### Basics of regular expression syntax\n",
    "- If the regex is built with simple characters or strings, there would be simply matching for that exact string."
   ]
  },
  {
   "cell_type": "code",
   "execution_count": 113,
   "metadata": {},
   "outputs": [
    {
     "data": {
      "text/plain": [
       "['ion', 'ion']"
      ]
     },
     "execution_count": 113,
     "metadata": {},
     "output_type": "execute_result"
    }
   ],
   "source": [
    "# simple string matching\n",
    "regex = re.compile('ion')\n",
    "regex.findall('great lion expectations')"
   ]
  },
  {
   "cell_type": "markdown",
   "metadata": {},
   "source": [
    "- Some characters have special meanings.\n",
    "- If we don't want them to be converted, use `\\` before them.\n",
    "- Adding `r` as a preface indicates a **raw string**, meaning that the special characters will not be converted."
   ]
  },
  {
   "cell_type": "code",
   "execution_count": 116,
   "metadata": {},
   "outputs": [
    {
     "data": {
      "text/plain": [
       "['$']"
      ]
     },
     "execution_count": 116,
     "metadata": {},
     "output_type": "execute_result"
    }
   ],
   "source": [
    "# usage of \\ to escape\n",
    "regex = re.compile(r'\\$')\n",
    "regex.findall(\"the cost is $20\")"
   ]
  },
  {
   "cell_type": "code",
   "execution_count": 119,
   "metadata": {},
   "outputs": [
    {
     "name": "stdout",
     "output_type": "stream",
     "text": [
      "a\tb\tc\n",
      "a\\tb\\tc\n"
     ]
    }
   ],
   "source": [
    "# here a tab is indicated by \\t\n",
    "print('a\\tb\\tc')\n",
    "# raw string\n",
    "print(r'a\\tb\\tc')"
   ]
  },
  {
   "cell_type": "markdown",
   "metadata": {},
   "source": [
    "- More about regex can be find [here](https://github.com/ziishaned/learn-regex/blob/master/translations/README-cn.md)."
   ]
  }
 ],
 "metadata": {
  "kernelspec": {
   "display_name": "Python 3",
   "language": "python",
   "name": "python3"
  },
  "language_info": {
   "codemirror_mode": {
    "name": "ipython",
    "version": 3
   },
   "file_extension": ".py",
   "mimetype": "text/x-python",
   "name": "python",
   "nbconvert_exporter": "python",
   "pygments_lexer": "ipython3",
   "version": "3.8.5"
  }
 },
 "nbformat": 4,
 "nbformat_minor": 4
}
